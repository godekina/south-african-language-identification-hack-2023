{
 "cells": [
  {
   "cell_type": "code",
   "execution_count": 1,
   "id": "14035e7e",
   "metadata": {
    "ExecuteTime": {
     "end_time": "2023-08-04T19:19:55.632917Z",
     "start_time": "2023-08-04T19:19:09.396492Z"
    }
   },
   "outputs": [],
   "source": [
    "# importing Libraries\n",
    "import pandas as pd\n",
    "import numpy as np\n",
    "import re\n",
    "import seaborn as sns\n",
    "import matplotlib.pyplot as plt\n",
    "import warnings\n",
    "warnings.simplefilter(\"ignore\")\n"
   ]
  },
  {
   "cell_type": "code",
   "execution_count": 2,
   "id": "a70c1843",
   "metadata": {
    "ExecuteTime": {
     "end_time": "2023-08-04T19:19:56.438419Z",
     "start_time": "2023-08-04T19:19:55.638913Z"
    }
   },
   "outputs": [],
   "source": [
    "# Loading the dataset\n",
    "data = pd.read_csv(\"train_set.csv\")\n",
    "test = pd.read_csv(\"test_set.csv\")\n",
    "\n",
    "# Display.max_colwidth option  set to None to show all text content without truncation\n",
    "pd.set_option('display.max_colwidth', None)\n"
   ]
  },
  {
   "cell_type": "code",
   "execution_count": 3,
   "id": "6fd9669d",
   "metadata": {
    "ExecuteTime": {
     "end_time": "2023-08-04T19:19:56.454410Z",
     "start_time": "2023-08-04T19:19:56.442419Z"
    }
   },
   "outputs": [],
   "source": [
    "X = data[\"text\"]\n",
    "y = data[\"lang_id\"]\n"
   ]
  },
  {
   "cell_type": "code",
   "execution_count": 4,
   "id": "76f773b1",
   "metadata": {
    "ExecuteTime": {
     "end_time": "2023-08-04T19:19:56.977560Z",
     "start_time": "2023-08-04T19:19:56.460407Z"
    }
   },
   "outputs": [],
   "source": [
    "# creating a list for appending the preprocessed text\n",
    "clean = []\n",
    "# iterating through all the text\n",
    "for text in X:\n",
    "    # removing the symbols and numbers\n",
    "    text = re.sub(r'[!@#$(),n\"%^*?:;~`0-9]', ' ', text)\n",
    "    text = re.sub(r'[[]]', ' ', text)\n",
    "    # converting the text to lower case\n",
    "    text = text.lower()\n",
    "    # appending to data_list\n",
    "    clean.append(text)"
   ]
  },
  {
   "cell_type": "code",
   "execution_count": 5,
   "id": "9087afee",
   "metadata": {
    "ExecuteTime": {
     "end_time": "2023-08-04T19:20:02.233033Z",
     "start_time": "2023-08-04T19:19:56.980563Z"
    }
   },
   "outputs": [],
   "source": [
    "from sklearn.model_selection import train_test_split\n",
    "x_train, x_test, y_train, y_test = train_test_split(X, y, test_size = 0.20)\n"
   ]
  },
  {
   "cell_type": "code",
   "execution_count": 6,
   "id": "2e3598b8",
   "metadata": {
    "ExecuteTime": {
     "end_time": "2023-08-04T19:20:02.266014Z",
     "start_time": "2023-08-04T19:20:02.243027Z"
    }
   },
   "outputs": [
    {
     "name": "stdout",
     "output_type": "stream",
     "text": [
      "32540                                                                 tlhahiso e ka ntshetswa pele ke dintlha tse ngata tseo hara tsona re ka qollang boitsebelo bo phahameng kgotsofalo mosebetsing tshebediso e nepahetseng ya thekenoloji jwalojwalo mme hona ke boikarabelo ba rapolasi le mosebeletsi wa hae\n",
      "26597     ho elwe hloko hore nehelano e lokela ho hlahiswa sebopehong sa moqoqo mme sena se bolela ho re nehelano e lokela ho ralwa ka tsela ya hore ho be le selelekela mmele o bopilweng ka diratswana le qetelo le ha nehelano e radilwe ka tsela ena moqoqo o tlameha ho hlahiswa ka tsela e supang kgokahano\n",
      "15073                 wenta kahle kutsi ukhatsateke ngekubhema kwemntfwana wakho uma ngabe acala kubhema asemncane kungenteka kutsi atsi nakahlanganisa iminyaka lengemashumi lamatsatfu budzala abe sekacala kuba nasinye saletifo letibangwa ligwayi lokungaba sifo semaphaphu sifo senhlitiyo kanye nemdlavuza\n",
      "5390     go hwetša seo thuto ya mafapha le makgotla a tlhlahlo le dikantoro tša diprobense tša kgoro ya mešomo di gare di kgopelwa go hlokomediša dinepša tša mafapha le tša diprobense tšeo di sepedišanago le dinepša tša bosetšhaba go šoma ga tšona ka dipoelo le ka bokgoni go tla elwa go ya ka dinepša tše\n",
      "16113                                                                  diforomo tša kgopelo di ka tšewa goba tsa bušetšwa go yuniti ya dinyakišišo tša motšhelo wa dithoto tšeo di tshelago mellwane ditefelo nomoro ya dr lategan road groenkloof pretoria go tloga mošupologo go fihla labohlano magareng ga le\n",
      "                                                                                                                                                           ...                                                                                                                                                   \n",
      "29079                                                                                           waar die raad n sektorale plan ingevolge subartikel a goedkeur moet die hoof uitvoerende beampte die sektorale plan binne dae na die datum van sodanige goedkeuring aan die departementshoof ter inligting voorlê\n",
      "4627                                                                             khethekanyo dzi tevhelaho dza mulayo wa khothe khulwane wa mulayo wa wa dzi ḓo shumiswa kha matshimbidzele phanḓa ha khothe u fana na milayo ya yone ine khothe fhedzi hu nga vha na u khwinifhadzwa ha iyi milayo arali zwo tea\n",
      "6387                                                                    indien n ouer wie se toestemming wettig vereis word nie opgespoor kan word om vergunning te verleen nie of die ouer handelingsonbevoeg is om vergunning te verleen kan n kommissaris van kinderwelsyn toestemming tot die huwelik verleen\n",
      "26777                                                                         dithoto tsotlhe melato ditshwanelo le maitlamo a letlole la inšorense ya botlhokatiro e e tlhamilweng ka fa tlase ga molao wa insorense ya botlhokatiro wa ka go dira jaana di fetisediwa kwa letloleng le le tlhamilweng ka karolo\n",
      "24306                                                                                       xa nkoka hi leswaku hi fanele ku hlayisa ndzhuti wa sisiteme ya mabindzu ya misava ku hetisa mimbhurisano na doha round ya sisiteme ya mabindzu ya misava no tiyisisa leswaku swipfuno swa nhluvukiso a swi hungutiwi\n",
      "Name: text, Length: 26400, dtype: object\n"
     ]
    }
   ],
   "source": [
    "print(x_train)"
   ]
  },
  {
   "cell_type": "code",
   "execution_count": 7,
   "id": "4a3220e3",
   "metadata": {
    "ExecuteTime": {
     "end_time": "2023-08-04T19:21:02.878966Z",
     "start_time": "2023-08-04T19:20:02.276006Z"
    }
   },
   "outputs": [
    {
     "data": {
      "text/plain": [
       "Pipeline(steps=[('tfidf', TfidfVectorizer()),\n",
       "                ('clf', RandomForestClassifier())])"
      ]
     },
     "execution_count": 7,
     "metadata": {},
     "output_type": "execute_result"
    }
   ],
   "source": [
    "# random forest\n",
    "from sklearn.pipeline import Pipeline\n",
    "from sklearn.feature_extraction.text import TfidfVectorizer\n",
    "from sklearn.ensemble import RandomForestClassifier\n",
    "\n",
    "# Create the pipeline\n",
    "rf = Pipeline([('tfidf', TfidfVectorizer()), ('clf', RandomForestClassifier())])\n",
    "\n",
    "# Train the pipeline\n",
    "rf.fit(x_train, y_train)"
   ]
  },
  {
   "cell_type": "code",
   "execution_count": 8,
   "id": "2c93daf7",
   "metadata": {
    "ExecuteTime": {
     "end_time": "2023-08-04T19:21:03.765422Z",
     "start_time": "2023-08-04T19:21:02.881965Z"
    }
   },
   "outputs": [],
   "source": [
    "rf_pred = rf.predict(x_test)"
   ]
  },
  {
   "cell_type": "code",
   "execution_count": 9,
   "id": "6c740c50",
   "metadata": {
    "ExecuteTime": {
     "end_time": "2023-08-04T19:21:49.502221Z",
     "start_time": "2023-08-04T19:21:03.769418Z"
    }
   },
   "outputs": [
    {
     "data": {
      "text/plain": [
       "Pipeline(steps=[('tfidf', TfidfVectorizer()), ('clf', LogisticRegression())])"
      ]
     },
     "execution_count": 9,
     "metadata": {},
     "output_type": "execute_result"
    }
   ],
   "source": [
    "from sklearn.pipeline import Pipeline\n",
    "from sklearn.feature_extraction.text import TfidfVectorizer\n",
    "from sklearn.linear_model import LogisticRegression\n",
    "\n",
    "# Create the pipeline\n",
    "lr = Pipeline([('tfidf', TfidfVectorizer()), ('clf', LogisticRegression())])\n",
    "\n",
    "# Train the pipeline\n",
    "lr.fit(x_train, y_train)\n",
    "\n"
   ]
  },
  {
   "cell_type": "code",
   "execution_count": 10,
   "id": "bc65bc61",
   "metadata": {
    "ExecuteTime": {
     "end_time": "2023-08-04T19:21:49.941949Z",
     "start_time": "2023-08-04T19:21:49.506219Z"
    }
   },
   "outputs": [],
   "source": [
    "pred_lr = lr.predict(x_test)"
   ]
  },
  {
   "cell_type": "code",
   "execution_count": 11,
   "id": "388564d3",
   "metadata": {
    "ExecuteTime": {
     "end_time": "2023-08-04T19:24:20.555956Z",
     "start_time": "2023-08-04T19:21:49.944947Z"
    }
   },
   "outputs": [
    {
     "data": {
      "text/plain": [
       "Pipeline(steps=[('tfidf', TfidfVectorizer()), ('clf', SVC())])"
      ]
     },
     "execution_count": 11,
     "metadata": {},
     "output_type": "execute_result"
    }
   ],
   "source": [
    "from sklearn.pipeline import Pipeline\n",
    "from sklearn.feature_extraction.text import TfidfVectorizer\n",
    "from sklearn.svm import SVC\n",
    "\n",
    "# Create the pipeline\n",
    "svc = Pipeline([('tfidf', TfidfVectorizer()), ('clf', SVC())])\n",
    "\n",
    "# Train the pipeline\n",
    "svc.fit(x_train, y_train)\n"
   ]
  },
  {
   "cell_type": "code",
   "execution_count": 12,
   "id": "bcd43990",
   "metadata": {
    "ExecuteTime": {
     "end_time": "2023-08-04T19:24:47.592530Z",
     "start_time": "2023-08-04T19:24:20.558947Z"
    }
   },
   "outputs": [],
   "source": [
    "svc_pred = svc.predict(x_test)"
   ]
  },
  {
   "cell_type": "code",
   "execution_count": 13,
   "id": "5673e91d",
   "metadata": {
    "ExecuteTime": {
     "end_time": "2023-08-04T19:24:47.783433Z",
     "start_time": "2023-08-04T19:24:47.594533Z"
    }
   },
   "outputs": [
    {
     "name": "stdout",
     "output_type": "stream",
     "text": [
      "Classification Report\n",
      "              precision    recall  f1-score   support\n",
      "\n",
      "         afr       1.00      0.99      1.00       592\n",
      "         eng       1.00      1.00      1.00       579\n",
      "         nbl       0.99      0.99      0.99       598\n",
      "         nso       1.00      1.00      1.00       616\n",
      "         sot       1.00      1.00      1.00       605\n",
      "         ssw       0.99      0.99      0.99       619\n",
      "         tsn       1.00      1.00      1.00       617\n",
      "         tso       1.00      1.00      1.00       610\n",
      "         ven       1.00      1.00      1.00       591\n",
      "         xho       0.98      1.00      0.99       578\n",
      "         zul       0.99      0.98      0.99       595\n",
      "\n",
      "    accuracy                           1.00      6600\n",
      "   macro avg       1.00      1.00      1.00      6600\n",
      "weighted avg       1.00      1.00      1.00      6600\n",
      "\n",
      "The accuracy score of the logistic reg model is: 0.9957575757575757\n"
     ]
    }
   ],
   "source": [
    "from sklearn.metrics import classification_report\n",
    "from sklearn.metrics import accuracy_score\n",
    "\n",
    "print('Classification Report')\n",
    "print(classification_report(y_test, pred_lr))\n",
    "\n",
    "print(\"The accuracy score of the logistic reg model is:\", accuracy_score(y_test, pred_lr))"
   ]
  },
  {
   "cell_type": "code",
   "execution_count": 14,
   "id": "bf87ebaf",
   "metadata": {
    "ExecuteTime": {
     "end_time": "2023-08-04T19:24:47.972665Z",
     "start_time": "2023-08-04T19:24:47.785514Z"
    }
   },
   "outputs": [
    {
     "name": "stdout",
     "output_type": "stream",
     "text": [
      "Classification Report\n",
      "              precision    recall  f1-score   support\n",
      "\n",
      "         afr       1.00      0.99      1.00       592\n",
      "         eng       1.00      1.00      1.00       579\n",
      "         nbl       1.00      0.99      1.00       598\n",
      "         nso       1.00      1.00      1.00       616\n",
      "         sot       1.00      1.00      1.00       605\n",
      "         ssw       1.00      0.99      1.00       619\n",
      "         tsn       1.00      1.00      1.00       617\n",
      "         tso       1.00      1.00      1.00       610\n",
      "         ven       1.00      1.00      1.00       591\n",
      "         xho       0.98      1.00      0.99       578\n",
      "         zul       0.99      0.99      0.99       595\n",
      "\n",
      "    accuracy                           1.00      6600\n",
      "   macro avg       1.00      1.00      1.00      6600\n",
      "weighted avg       1.00      1.00      1.00      6600\n",
      "\n",
      "The accuracy score of the logistic reg model is: 0.9962121212121212\n"
     ]
    }
   ],
   "source": [
    "from sklearn.metrics import classification_report\n",
    "from sklearn.metrics import accuracy_score\n",
    "\n",
    "print('Classification Report')\n",
    "print(classification_report(y_test, svc_pred))\n",
    "\n",
    "print(\"The accuracy score of the logistic reg model is:\", accuracy_score(y_test, svc_pred))"
   ]
  },
  {
   "cell_type": "code",
   "execution_count": 15,
   "id": "7cb15e52",
   "metadata": {
    "ExecuteTime": {
     "end_time": "2023-08-04T19:24:51.322151Z",
     "start_time": "2023-08-04T19:24:47.975668Z"
    }
   },
   "outputs": [
    {
     "name": "stdout",
     "output_type": "stream",
     "text": [
      "Classification Report\n"
     ]
    },
    {
     "ename": "NameError",
     "evalue": "name 'grid_rf' is not defined",
     "output_type": "error",
     "traceback": [
      "\u001b[1;31m---------------------------------------------------------------------------\u001b[0m",
      "\u001b[1;31mNameError\u001b[0m                                 Traceback (most recent call last)",
      "\u001b[1;32m~\\AppData\\Local\\Temp\\ipykernel_6788\\3320388003.py\u001b[0m in \u001b[0;36m<module>\u001b[1;34m\u001b[0m\n\u001b[0;32m      3\u001b[0m \u001b[1;33m\u001b[0m\u001b[0m\n\u001b[0;32m      4\u001b[0m \u001b[0mprint\u001b[0m\u001b[1;33m(\u001b[0m\u001b[1;34m'Classification Report'\u001b[0m\u001b[1;33m)\u001b[0m\u001b[1;33m\u001b[0m\u001b[1;33m\u001b[0m\u001b[0m\n\u001b[1;32m----> 5\u001b[1;33m \u001b[0mprint\u001b[0m\u001b[1;33m(\u001b[0m\u001b[0mclassification_report\u001b[0m\u001b[1;33m(\u001b[0m\u001b[0my_test\u001b[0m\u001b[1;33m,\u001b[0m \u001b[0mgrid_rf\u001b[0m\u001b[1;33m)\u001b[0m\u001b[1;33m)\u001b[0m\u001b[1;33m\u001b[0m\u001b[1;33m\u001b[0m\u001b[0m\n\u001b[0m\u001b[0;32m      6\u001b[0m \u001b[1;33m\u001b[0m\u001b[0m\n\u001b[0;32m      7\u001b[0m \u001b[0mprint\u001b[0m\u001b[1;33m(\u001b[0m\u001b[1;34m\"The accuracy score of the logistic reg model is:\"\u001b[0m\u001b[1;33m,\u001b[0m \u001b[0maccuracy_score\u001b[0m\u001b[1;33m(\u001b[0m\u001b[0my_test\u001b[0m\u001b[1;33m,\u001b[0m \u001b[0mgrid_rf\u001b[0m\u001b[1;33m)\u001b[0m\u001b[1;33m)\u001b[0m\u001b[1;33m\u001b[0m\u001b[1;33m\u001b[0m\u001b[0m\n",
      "\u001b[1;31mNameError\u001b[0m: name 'grid_rf' is not defined"
     ]
    }
   ],
   "source": [
    "from sklearn.metrics import classification_report\n",
    "from sklearn.metrics import accuracy_score\n",
    "\n",
    "print('Classification Report')\n",
    "print(classification_report(y_test, grid_rf))\n",
    "\n",
    "print(\"The accuracy score of the logistic reg model is:\", accuracy_score(y_test, grid_rf))"
   ]
  },
  {
   "cell_type": "code",
   "execution_count": null,
   "id": "49975c3f",
   "metadata": {},
   "outputs": [],
   "source": []
  },
  {
   "cell_type": "code",
   "execution_count": 16,
   "id": "04e8a497",
   "metadata": {
    "ExecuteTime": {
     "end_time": "2023-08-04T19:26:18.222313Z",
     "start_time": "2023-08-04T19:25:49.407837Z"
    }
   },
   "outputs": [],
   "source": [
    "from sklearn.feature_extraction.text import CountVectorizer\n",
    "vectorizer = CountVectorizer()\n",
    "# prediction = stacking_NB2.predict(X_test)\n",
    "pred = svc.predict(x_test)\n"
   ]
  },
  {
   "cell_type": "code",
   "execution_count": 17,
   "id": "ab2c066f",
   "metadata": {
    "ExecuteTime": {
     "end_time": "2023-08-04T19:27:55.672970Z",
     "start_time": "2023-08-04T19:27:55.660980Z"
    }
   },
   "outputs": [],
   "source": [
    "X = test['text']\n"
   ]
  },
  {
   "cell_type": "code",
   "execution_count": 18,
   "id": "e8b0e97c",
   "metadata": {
    "ExecuteTime": {
     "end_time": "2023-08-04T19:27:56.653267Z",
     "start_time": "2023-08-04T19:27:56.642271Z"
    }
   },
   "outputs": [
    {
     "name": "stdout",
     "output_type": "stream",
     "text": [
      "<class 'numpy.ndarray'>\n"
     ]
    }
   ],
   "source": [
    "print(type(pred))"
   ]
  },
  {
   "cell_type": "code",
   "execution_count": 19,
   "id": "75b8dbaf",
   "metadata": {
    "ExecuteTime": {
     "end_time": "2023-08-04T19:28:17.223156Z",
     "start_time": "2023-08-04T19:27:57.639501Z"
    }
   },
   "outputs": [],
   "source": [
    "test['lang_id'] = svc.predict(X)"
   ]
  },
  {
   "cell_type": "code",
   "execution_count": null,
   "id": "56de6a14",
   "metadata": {
    "ExecuteTime": {
     "end_time": "2023-08-04T19:26:18.360233Z",
     "start_time": "2023-08-04T19:26:18.360233Z"
    }
   },
   "outputs": [],
   "source": [
    "submission = test[['index', 'lang_id']]\n",
    "submission.to_csv('submission.csv',index=False)\n",
    "submission"
   ]
  },
  {
   "cell_type": "code",
   "execution_count": null,
   "id": "96f4ec80",
   "metadata": {},
   "outputs": [],
   "source": []
  },
  {
   "cell_type": "code",
   "execution_count": null,
   "id": "fca592a7",
   "metadata": {},
   "outputs": [],
   "source": []
  }
 ],
 "metadata": {
  "kernelspec": {
   "display_name": "Python 3 (ipykernel)",
   "language": "python",
   "name": "python3"
  },
  "language_info": {
   "codemirror_mode": {
    "name": "ipython",
    "version": 3
   },
   "file_extension": ".py",
   "mimetype": "text/x-python",
   "name": "python",
   "nbconvert_exporter": "python",
   "pygments_lexer": "ipython3",
   "version": "3.9.13"
  },
  "toc": {
   "base_numbering": 1,
   "nav_menu": {},
   "number_sections": true,
   "sideBar": true,
   "skip_h1_title": false,
   "title_cell": "Table of Contents",
   "title_sidebar": "Contents",
   "toc_cell": false,
   "toc_position": {},
   "toc_section_display": true,
   "toc_window_display": false
  },
  "varInspector": {
   "cols": {
    "lenName": 16,
    "lenType": 16,
    "lenVar": 40
   },
   "kernels_config": {
    "python": {
     "delete_cmd_postfix": "",
     "delete_cmd_prefix": "del ",
     "library": "var_list.py",
     "varRefreshCmd": "print(var_dic_list())"
    },
    "r": {
     "delete_cmd_postfix": ") ",
     "delete_cmd_prefix": "rm(",
     "library": "var_list.r",
     "varRefreshCmd": "cat(var_dic_list()) "
    }
   },
   "types_to_exclude": [
    "module",
    "function",
    "builtin_function_or_method",
    "instance",
    "_Feature"
   ],
   "window_display": false
  }
 },
 "nbformat": 4,
 "nbformat_minor": 5
}
